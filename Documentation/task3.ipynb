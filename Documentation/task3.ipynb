{
 "cells": [
  {
   "cell_type": "markdown",
   "metadata": {},
   "source": [
    "Ali Hamza 20i1881\n",
    "\n",
    "Abdullah Malik 20i930\n",
    "\n",
    "Assignment 3"
   ]
  },
  {
   "cell_type": "markdown",
   "metadata": {},
   "source": [
    "# Transaction "
   ]
  },
  {
   "cell_type": "code",
   "execution_count": 273,
   "metadata": {},
   "outputs": [],
   "source": [
    "class Transaction:\n",
    "    def __init__(self, sender, receiver, amount, signature=None):\n",
    "        self.sender = sender\n",
    "        self.receiver = receiver\n",
    "        self.amount = amount\n",
    "        self.signature = signature\n",
    "\n",
    "    def __str__(self):\n",
    "        return f\"{self.sender} -> {self.receiver}: {self.amount}\"\n"
   ]
  },
  {
   "cell_type": "markdown",
   "metadata": {},
   "source": [
    "# Key Pairs\n"
   ]
  },
  {
   "cell_type": "code",
   "execution_count": 274,
   "metadata": {},
   "outputs": [],
   "source": [
    "def generate_keys_for_nodes(num_nodes):\n",
    "    with open(\"public_keys.txt\", \"w\") as f:\n",
    "        for i in range(num_nodes):\n",
    "            private_key, public_key = generate_keypair()\n",
    "            \n",
    "            # Convert public key to PEM format\n",
    "            pem = public_key.public_bytes(\n",
    "                encoding=serialization.Encoding.PEM,\n",
    "                format=serialization.PublicFormat.SubjectPublicKeyInfo\n",
    "            )\n",
    "            \n",
    "            # Write the public key to the file with a block number\n",
    "            f.write(f\"Block {i}:\\n\")\n",
    "            f.write(pem.decode() + \"\\n\\n\")\n"
   ]
  },
  {
   "cell_type": "markdown",
   "metadata": {},
   "source": [
    " # 1. Genesis Block:"
   ]
  },
  {
   "cell_type": "code",
   "execution_count": 275,
   "metadata": {},
   "outputs": [],
   "source": [
    "from datetime import datetime\n",
    "import hashlib\n",
    "\n",
    "class Block:\n",
    "    def __init__(self, index, timestamp, transactions, previous_hash):\n",
    "        self.index = index\n",
    "        self.timestamp = timestamp\n",
    "        self.transactions = transactions\n",
    "        self.previous_hash = previous_hash\n",
    "        self.nonce = 0\n",
    "        self.hash = self.hash_block()\n",
    "\n",
    "    def hash_block(self):\n",
    "        # Combine all transaction data into one string\n",
    "        combined_data = ''.join(str(tx) for tx in self.transactions)\n",
    "        return hashlib.sha256(f\"{self.index}{self.timestamp}{combined_data}{self.previous_hash}{self.nonce}\".encode()).hexdigest()\n",
    "\n",
    "\n",
    "\n",
    "def make_genesis_block():\n",
    "    \"\"\"Make the first block in a block-chain.\"\"\"\n",
    "    return Block(index=0, timestamp=datetime.now(), transactions=[\"Genesis Block\"], previous_hash=\"0\")\n"
   ]
  },
  {
   "cell_type": "markdown",
   "metadata": {},
   "source": [
    "# 2. Key Pair Generation:\n",
    "\n",
    "Using the cryptography library:"
   ]
  },
  {
   "cell_type": "code",
   "execution_count": 276,
   "metadata": {},
   "outputs": [],
   "source": [
    "\n",
    "\n",
    "from cryptography.hazmat.backends import default_backend\n",
    "from cryptography.hazmat.primitives import serialization\n",
    "from cryptography.hazmat.primitives.asymmetric import ec\n",
    "\n",
    "def generate_keypair():\n",
    "    private_key = ec.generate_private_key(ec.SECP256R1(), default_backend())\n",
    "    public_key = private_key.public_key()\n",
    "\n",
    "    return private_key, public_key\n"
   ]
  },
  {
   "cell_type": "markdown",
   "metadata": {},
   "source": [
    "# 3. Digital Signature:"
   ]
  },
  {
   "cell_type": "code",
   "execution_count": 277,
   "metadata": {},
   "outputs": [],
   "source": [
    "from cryptography.hazmat.primitives import hashes\n",
    "\n",
    "def sign_transaction(private_key, data):\n",
    "    signature = private_key.sign(data.encode(), ec.ECDSA(hashes.SHA256()))\n",
    "    return signature"
   ]
  },
  {
   "cell_type": "markdown",
   "metadata": {},
   "source": [
    "# 4. Mining and New Blocks:"
   ]
  },
  {
   "cell_type": "code",
   "execution_count": 278,
   "metadata": {},
   "outputs": [],
   "source": [
    "import time\n",
    "\n",
    "def next_block(pre_block, transactions=[]):\n",
    "    index = pre_block.index + 1\n",
    "    timestamp = datetime.now()\n",
    "\n",
    "    # Sign each transaction\n",
    "    private_key, _ = generate_keypair()\n",
    "    for transaction in transactions:\n",
    "        signature = sign_transaction(private_key, str(transaction))\n",
    "        transaction.signature = signature\n",
    "\n",
    "    block = Block(index, timestamp, transactions, pre_block.hash)\n",
    "\n",
    "\n",
    "    # Print block information\n",
    "    print(f\"Creating Block #{index}\")\n",
    "    print(f\"Timestamp: {timestamp}\")\n",
    "    # print(f\"Data: {data}\")\n",
    "    print(f\"Previous Hash: {pre_block.hash}\")\n",
    "\n",
    "    # Mining\n",
    "    target_difficulty = \"000000\"\n",
    "    start_time = time.time()\n",
    "    increment = 1  # Initialize increment value\n",
    "\n",
    "    while not block.hash.startswith(target_difficulty):\n",
    "        block.nonce += increment  # Adjust the nonce by the increment value\n",
    "        block.hash = block.hash_block()\n",
    "        if time.time() - start_time > 600:  # 10 minutes\n",
    "            print(\"Refreshing timestamp and retrying...\")\n",
    "            block.timestamp = datetime.now()  # Refresh the timestamp\n",
    "            start_time = time.time()  # Reset the start time\n",
    "            increment += 1  # Increase the increment value\n",
    "\n",
    "    # Print mining information\n",
    "    print(f\"Block #{index} mined successfully.\")\n",
    "    print(f\"Hash: {block.hash}\")\n",
    "    print(f\"Nonce: {block.nonce}\")\n",
    "    print(f\"Time taken: {time.time() - start_time} seconds\")\n",
    "\n",
    "    return block"
   ]
  },
  {
   "cell_type": "markdown",
   "metadata": {},
   "source": [
    "# 5. Chain of Blocks:"
   ]
  },
  {
   "cell_type": "code",
   "execution_count": 279,
   "metadata": {},
   "outputs": [],
   "source": [
    "def create_blockchain():\n",
    "    blockchain = [make_genesis_block()]\n",
    "\n",
    "    for i in range(1, 20):\n",
    "        # Generate a list of demo transactions for each block\n",
    "        transactions = []\n",
    "        for j in range(20):  # 20 transactions\n",
    "            sender = f\"Alice_{j}\"\n",
    "            receiver = f\"Bob_{j}\"\n",
    "            amount = (i * 100) + j  # example amount\n",
    "            transaction = Transaction(sender, receiver, amount)\n",
    "            transactions.append(transaction)\n",
    "\n",
    "        blockchain.append(next_block(blockchain[-1], transactions))\n",
    "\n",
    "    return blockchain\n"
   ]
  },
  {
   "cell_type": "markdown",
   "metadata": {},
   "source": [
    "# Main"
   ]
  },
  {
   "cell_type": "code",
   "execution_count": 280,
   "metadata": {},
   "outputs": [
    {
     "name": "stdout",
     "output_type": "stream",
     "text": [
      "Creating Block #1\n",
      "Timestamp: 2023-10-29 22:58:19.933384\n",
      "Previous Hash: fbf2b19422e049b6b382eb74c4c5c83f0212654f4bfe49471f18d0604e07d964\n"
     ]
    },
    {
     "name": "stdout",
     "output_type": "stream",
     "text": [
      "Block #1 mined successfully.\n",
      "Hash: 0000004f6446edc63e2cf39d0d913ca83cab7769ecd9d22e331f39ca8fc060c0\n",
      "Nonce: 1560699\n",
      "Time taken: 29.777577877044678 seconds\n",
      "Creating Block #2\n",
      "Timestamp: 2023-10-29 22:58:49.712980\n",
      "Previous Hash: 0000004f6446edc63e2cf39d0d913ca83cab7769ecd9d22e331f39ca8fc060c0\n",
      "Block #2 mined successfully.\n",
      "Hash: 0000004f6c13b988cf4eb3003d73360934bed44597acadb2f4d3c7cccf753316\n",
      "Nonce: 5431604\n",
      "Time taken: 111.94909691810608 seconds\n",
      "Creating Block #3\n",
      "Timestamp: 2023-10-29 23:00:41.664970\n",
      "Previous Hash: 0000004f6c13b988cf4eb3003d73360934bed44597acadb2f4d3c7cccf753316\n",
      "Block #3 mined successfully.\n",
      "Hash: 000000b4b7f7ce057705a33c350cd10f6ad8c5f7757e6a3548a53a398fe8c78a\n",
      "Nonce: 11714683\n",
      "Time taken: 243.89662075042725 seconds\n",
      "Creating Block #4\n",
      "Timestamp: 2023-10-29 23:04:45.567116\n",
      "Previous Hash: 000000b4b7f7ce057705a33c350cd10f6ad8c5f7757e6a3548a53a398fe8c78a\n"
     ]
    }
   ],
   "source": [
    "# Main\n",
    "if __name__ == \"__main__\":\n",
    "    num_nodes = 20  # or any number you want\n",
    "    generate_keys_for_nodes(num_nodes)\n",
    "\n",
    "    blockchain = create_blockchain()\n",
    "\n",
    "    # Displaying transactions for each block\n",
    "    for block in blockchain:\n",
    "        print(f\"Block #{block.index} Transactions:\")\n",
    "        for tx in block.transactions:\n",
    "            if isinstance(tx, Transaction):  # Check if it's a Transaction object\n",
    "                print(f\"Sender: {tx.sender}\")\n",
    "                print(f\"Receiver: {tx.receiver}\")\n",
    "                print(f\"Amount: {tx.amount}\")\n",
    "                print(f\"Signature: {tx.signature}\")\n",
    "                print(\"------\")\n",
    "        print(\"\\n\")\n"
   ]
  }
 ],
 "metadata": {
  "kernelspec": {
   "display_name": "Python 3",
   "language": "python",
   "name": "python3"
  },
  "language_info": {
   "codemirror_mode": {
    "name": "ipython",
    "version": 3
   },
   "file_extension": ".py",
   "mimetype": "text/x-python",
   "name": "python",
   "nbconvert_exporter": "python",
   "pygments_lexer": "ipython3",
   "version": "3.11.1"
  }
 },
 "nbformat": 4,
 "nbformat_minor": 2
}
